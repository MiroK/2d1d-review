{
 "cells": [
  {
   "cell_type": "code",
   "execution_count": 1,
   "metadata": {
    "collapsed": false
   },
   "outputs": [
    {
     "data": {
      "text/plain": [
       "chklapackerror (generic function with 1 method)"
      ]
     },
     "execution_count": 1,
     "metadata": {},
     "output_type": "execute_result"
    }
   ],
   "source": [
    "const liblapack = Base.liblapack_name\n",
    "import Base.LinAlg.BlasInt, Base.LinAlg.BlasReal, Base.blas_vendor, Base.LinAlg.Eigen\n",
    "\n",
    "if blas_vendor() == :openblas64\n",
    "    macro blasfunc(x)\n",
    "        return Expr(:quote, symbol(x, \"64_\"))\n",
    "    end\n",
    "end\n",
    "\n",
    "type LAPACKException <: Exception\n",
    "    info::BlasInt\n",
    "end\n",
    "\n",
    "function chklapackerror(ret::BlasInt)\n",
    "    if ret == 0\n",
    "        return\n",
    "    elseif ret < 0\n",
    "        throw(ArgumentError(\"invalid argument #$(-ret) to LAPACK call\"))\n",
    "    else # ret > 0\n",
    "        throw(LAPACKException(ret))\n",
    "    end\n",
    "end"
   ]
  },
  {
   "cell_type": "code",
   "execution_count": 2,
   "metadata": {
    "collapsed": false
   },
   "outputs": [
    {
     "data": {
      "text/plain": [
       "my_eig (generic function with 1 method)"
      ]
     },
     "execution_count": 2,
     "metadata": {},
     "output_type": "execute_result"
    }
   ],
   "source": [
    "stegr = :dstegr_\n",
    "elty = :Float64\n",
    "\n",
    "@eval begin\n",
    "    function bar!(jobz::Char, range::Char, dv::Vector{$elty}, ev::Vector{$elty}, vl::Real, vu::Real, il::Integer, iu::Integer)\n",
    "        n = length(dv)\n",
    "        if length(ev) != n - 1\n",
    "            throw(DimensionMismatch(\"ev has length $(length(ev)) but needs one less than dv's length, $n)\"))\n",
    "        end\n",
    "        eev = [ev; zero($elty)]\n",
    "        abstol = Array($elty, 1)\n",
    "        m = Array(BlasInt, 1)\n",
    "        w = similar(dv, $elty, n)\n",
    "        ldz = jobz == 'N' ? 1 : n\n",
    "        Z = similar(dv, $elty, ldz, n)\n",
    "        isuppz = similar(dv, BlasInt, 2n)\n",
    "        work = Array($elty, 1)\n",
    "        lwork = BlasInt(-1)\n",
    "        iwork = Array(BlasInt, 1)\n",
    "        liwork = BlasInt(-1)\n",
    "        info = Ref{BlasInt}()\n",
    "        for i = 1:2\n",
    "            ccall((@blasfunc($stegr), liblapack), Void,\n",
    "                (Ptr{UInt8}, Ptr{UInt8}, Ptr{BlasInt}, Ptr{$elty},\n",
    "                Ptr{$elty}, Ptr{$elty}, Ptr{$elty}, Ptr{BlasInt},\n",
    "                Ptr{BlasInt}, Ptr{$elty}, Ptr{BlasInt}, Ptr{$elty},\n",
    "                Ptr{$elty}, Ptr{BlasInt}, Ptr{BlasInt}, Ptr{$elty},\n",
    "                Ptr{BlasInt}, Ptr{BlasInt}, Ptr{BlasInt}, Ptr{BlasInt}),\n",
    "                &jobz, &range, &n, dv,\n",
    "                eev, &vl, &vu, &il,\n",
    "                &iu, abstol, m, w,\n",
    "                Z, &ldz, isuppz, work,\n",
    "                &lwork, iwork, &liwork, info)\n",
    "            chklapackerror(info[])\n",
    "            if i == 1\n",
    "                lwork = BlasInt(work[1])\n",
    "                work = Array($elty, lwork)\n",
    "                liwork = iwork[1]\n",
    "                iwork = Array(BlasInt, liwork)\n",
    "            end\n",
    "        end\n",
    "        w[1:m[1]], Z[:,1:m[1]]\n",
    "    end\n",
    "end\n",
    "bar!(jobz::Char, dv::Vector, ev::Vector) = bar!(jobz, 'A', dv, ev, 0.0, 0.0, 0, 0)\n",
    "\n",
    "function my_eig{T<:Float64}(A::SymTridiagonal{T})\n",
    "    F = Eigen(bar!('V', A.dv, A.ev)...)\n",
    "    F.values, F.vectors\n",
    "end"
   ]
  },
  {
   "cell_type": "code",
   "execution_count": 3,
   "metadata": {
    "collapsed": false
   },
   "outputs": [],
   "source": [
    "include(\"utils.jl\")\n",
    "using Utils"
   ]
  },
  {
   "cell_type": "code",
   "execution_count": 4,
   "metadata": {
    "collapsed": false
   },
   "outputs": [
    {
     "name": "stdout",
     "output_type": "stream",
     "text": [
      "  0.247240 seconds (271.64 k allocations: 28.724 MB, 2.58% gc time)\n",
      "  "
     ]
    },
    {
     "data": {
      "text/plain": [
       "0.0"
      ]
     },
     "execution_count": 4,
     "metadata": {},
     "output_type": "execute_result"
    },
    {
     "name": "stdout",
     "output_type": "stream",
     "text": [
      "0.108258 seconds (50.10 k allocations: 17.790 MB, 2.70% gc time)\n"
     ]
    }
   ],
   "source": [
    "A, M = Utils.matrices(1000, :SymTridiagonal);\n",
    "@time w, _ = my_eig(A);\n",
    "A, M = Utils.matrices(1000, :SymTridiagonal);\n",
    "@time w0, _ = eig(A);\n",
    "norm(w-w0)"
   ]
  },
  {
   "cell_type": "code",
   "execution_count": 4,
   "metadata": {
    "collapsed": false
   },
   "outputs": [
    {
     "data": {
      "text/plain": [
       "my_eig_foo (generic function with 1 method)"
      ]
     },
     "execution_count": 4,
     "metadata": {},
     "output_type": "execute_result"
    }
   ],
   "source": [
    "stegr = :dstevr_\n",
    "elty = :Float64\n",
    "\n",
    "@eval begin\n",
    "    function foo!(jobz::Char, range::Char, dv::Vector{$elty}, ev::Vector{$elty}, vl::Real, vu::Real, il::Integer, iu::Integer)\n",
    "        n = length(dv)\n",
    "        if length(ev) != n - 1\n",
    "            throw(DimensionMismatch(\"ev has length $(length(ev)) but needs one less than dv's length, $n)\"))\n",
    "        end\n",
    "        eev = [ev; zero($elty)]\n",
    "        abstol = Array($elty, 1)\n",
    "        m = Array(BlasInt, 1)\n",
    "        w = similar(dv, $elty, n)\n",
    "        ldz = jobz == 'N' ? 1 : n\n",
    "        Z = similar(dv, $elty, ldz, n)\n",
    "        isuppz = similar(dv, BlasInt, 2n)\n",
    "        work = Array($elty, 1)\n",
    "        lwork = BlasInt(-1)\n",
    "        iwork = Array(BlasInt, 1)\n",
    "        liwork = BlasInt(-1)\n",
    "        info = Ref{BlasInt}()\n",
    "        for i = 1:2\n",
    "            ccall((@blasfunc($stegr), liblapack), Void,\n",
    "                (Ptr{UInt8}, Ptr{UInt8}, Ptr{BlasInt}, Ptr{$elty},\n",
    "                Ptr{$elty}, Ptr{$elty}, Ptr{$elty}, Ptr{BlasInt},\n",
    "                Ptr{BlasInt}, Ptr{$elty}, Ptr{BlasInt}, Ptr{$elty},\n",
    "                Ptr{$elty}, Ptr{BlasInt}, Ptr{BlasInt}, Ptr{$elty},\n",
    "                Ptr{BlasInt}, Ptr{BlasInt}, Ptr{BlasInt}, Ptr{BlasInt}),\n",
    "                &jobz, &range, &n, dv,\n",
    "                eev, &vl, &vu, &il,\n",
    "                &iu, abstol, m, w,\n",
    "                Z, &ldz, isuppz, work,\n",
    "                &lwork, iwork, &liwork, info)\n",
    "            chklapackerror(info[])\n",
    "            if i == 1\n",
    "                lwork = BlasInt(work[1])\n",
    "                work = Array($elty, lwork)\n",
    "                liwork = iwork[1]\n",
    "                iwork = Array(BlasInt, liwork)\n",
    "            end\n",
    "        end\n",
    "        w[1:m[1]], Z[:,1:m[1]]\n",
    "    end\n",
    "end\n",
    "foo!(jobz::Char, dv::Vector, ev::Vector) = foo!(jobz, 'A', dv, ev, 0.0, 0.0, 0, 0)\n",
    "\n",
    "function my_eig_foo{T<:Float64}(A::SymTridiagonal{T})\n",
    "    F = Eigen(foo!('V', A.dv, A.ev)...)\n",
    "    F.values, F.vectors\n",
    "end"
   ]
  },
  {
   "cell_type": "code",
   "execution_count": 20,
   "metadata": {
    "collapsed": false
   },
   "outputs": [
    {
     "name": "stdout",
     "output_type": "stream",
     "text": [
      "  "
     ]
    },
    {
     "ename": "LoadError",
     "evalue": "LoadError: MethodError: `convert` has no method matching convert(::Type{Utils.cols{T<:Real}}, ::SymTridiagonal{Float64})\nThis may have arisen from a call to the constructor Utils.cols{T<:Real}(...),\nsince type constructors fall back to convert methods.\nClosest candidates are:\n  call{T}(::Type{T}, ::Any)\n  convert{T}(::Type{T}, !Matched::T)\n  Utils.cols{T<:Real}(!Matched::Array{T<:Real,2}, !Matched::OrdinalRange{Int64,Int64})\n  ...\nwhile loading In[20], in expression starting on line 10",
     "output_type": "error",
     "traceback": [
      "LoadError: MethodError: `convert` has no method matching convert(::Type{Utils.cols{T<:Real}}, ::SymTridiagonal{Float64})\nThis may have arisen from a call to the constructor Utils.cols{T<:Real}(...),\nsince type constructors fall back to convert methods.\nClosest candidates are:\n  call{T}(::Type{T}, ::Any)\n  convert{T}(::Type{T}, !Matched::T)\n  Utils.cols{T<:Real}(!Matched::Array{T<:Real,2}, !Matched::OrdinalRange{Int64,Int64})\n  ...\nwhile loading In[20], in expression starting on line 10",
      "",
      " in call at essentials.jl:56",
      " in anonymous at no file"
     ]
    },
    {
     "name": "stdout",
     "output_type": "stream",
     "text": [
      "0.000115 seconds (57 allocations: 6.625 KB)\n",
      "  0.000442 seconds (62 allocations: 6.844 KB)\n",
      "0.0 0.0\n"
     ]
    }
   ],
   "source": [
    "m = 2^3\n",
    "\n",
    "A, M = Utils.matrices(m, :SymTridiagonal);\n",
    "@time w, v = my_eig_foo(A);\n",
    "A, M = Utils.matrices(m, :SymTridiagonal);\n",
    "@time w0, v0 = eig(A);\n",
    "\n",
    "println(\"$(norm(w-w0, Inf)) $(norm(v-v0, Inf))\")\n"
   ]
  },
  {
   "cell_type": "code",
   "execution_count": 16,
   "metadata": {
    "collapsed": false
   },
   "outputs": [
    {
     "data": {
      "text/plain": [
       "my_eig_cux (generic function with 1 method)"
      ]
     },
     "execution_count": 16,
     "metadata": {},
     "output_type": "execute_result"
    }
   ],
   "source": [
    "stegr = :dstevx_\n",
    "elty = :Float64\n",
    "\n",
    "@eval begin\n",
    "    function cux!(jobz::Char, range::Char, dv::Vector{$elty}, ev::Vector{$elty}, vl::Real, vu::Real, il::Integer, iu::Integer)\n",
    "        n = length(dv)\n",
    "        if length(ev) != n - 1\n",
    "            throw(DimensionMismatch(\"ev has length $(length(ev)) but needs one less than dv's length, $n)\"))\n",
    "        end\n",
    "        eev = [ev; zero($elty)]\n",
    "        abstol = Array($elty, 1)\n",
    "        m = Array(BlasInt, 1)\n",
    "        w = similar(dv, $elty, n)\n",
    "        ldz = jobz == 'N' ? 1 : n\n",
    "        Z = similar(dv, $elty, ldz, n)\n",
    "        ifail = similar(dv, BlasInt, n)\n",
    "        work = Array($elty, 5n)\n",
    "        iwork = Array(BlasInt, 5n)\n",
    "        info = Ref{BlasInt}()\n",
    "        \n",
    "        ccall((@blasfunc($stegr), liblapack), Void,\n",
    "            (Ptr{UInt8}, Ptr{UInt8}, Ptr{BlasInt},\n",
    "             Ptr{$elty}, Ptr{$elty}, \n",
    "             Ptr{$elty}, Ptr{$elty}, Ptr{BlasInt}, Ptr{BlasInt}, \n",
    "             Ptr{$elty}, Ptr{BlasInt}, \n",
    "             Ptr{$elty}, Ptr{$elty}, \n",
    "             Ptr{BlasInt}, Ptr{$elty}, Ptr{BlasInt},\n",
    "             Ptr{BlasInt}, Ptr{BlasInt}),\n",
    "            &jobz, &range, &n, \n",
    "            dv, eev,\n",
    "            &vl, &vu, &il, &iu,\n",
    "            abstol, m,\n",
    "            w, Z, \n",
    "            &ldz, work, iwork, \n",
    "            ifail, info)\n",
    "        chklapackerror(info[])\n",
    "        \n",
    "        w[1:m[1]], Z[:,1:m[1]]\n",
    "    end\n",
    "end\n",
    "cux!(jobz::Char, dv::Vector, ev::Vector) = cux!(jobz, 'A', dv, ev, 0.0, 0.0, 0, 0)\n",
    "\n",
    "function my_eig_cux{T<:Float64}(A::SymTridiagonal{T})\n",
    "    F = Eigen(cux!('V', A.dv, A.ev)...)\n",
    "    F.values, F.vectors\n",
    "end"
   ]
  },
  {
   "cell_type": "code",
   "execution_count": 17,
   "metadata": {
    "collapsed": false
   },
   "outputs": [
    {
     "name": "stdout",
     "output_type": "stream",
     "text": [
      "  0.023445 seconds (24.53 k allocations: 1.142 MB)\n",
      "  0.002274 seconds (57 allocations: 28.516 KB)\n",
      "5.88418203051333e-14 5.294946348576806\n",
      "95.89402073482518\n",
      "0.0\n",
      "0.0\n",
      "95.98695561217113\n",
      "96.0733999801841\n",
      "96.15337147968046\n",
      "96.2268863417538\n",
      "96.29395942381556\n",
      "96.35460423302878\n",
      "96.40883294432506\n",
      "96.45665641522565\n",
      "96.498084198358\n",
      "96.53312455209188\n",
      "96.56178444952226\n",
      "96.58406958593172\n",
      "96.59998438481568\n",
      "96.60953200252418\n",
      "96.61271433155548\n",
      "96.60953200252416\n",
      "96.59998438481568\n",
      "96.58406958593172\n",
      "96.56178444952228\n",
      "96.53312455209188\n",
      "96.498084198358\n",
      "96.45665641522565\n",
      "96.40883294432506\n",
      "96.3546042330288\n",
      "96.29395942381558\n",
      "96.22688634175381\n",
      "96.15337147968046\n",
      "96.0733999801841\n",
      "95.98695561217112\n",
      "95.89402073482518\n"
     ]
    }
   ],
   "source": []
  },
  {
   "cell_type": "code",
   "execution_count": 8,
   "metadata": {
    "collapsed": false
   },
   "outputs": [
    {
     "data": {
      "text/plain": [
       "spd3_eigfact! (generic function with 1 method)"
      ]
     },
     "execution_count": 8,
     "metadata": {},
     "output_type": "execute_result"
    }
   ],
   "source": [
    "stegr = :dpteqr_\n",
    "elty = :Float64\n",
    "\n",
    "@blasfunc dpteqr_\n",
    "\n",
    "\n",
    "\n",
    "const liblapack = Base.liblapack_name\n",
    "import Base.LinAlg.BlasInt, Base.LinAlg.Eigen\n",
    "\n",
    "\n",
    "\"\"\"\n",
    "Computes all eigenvalues and, optionally, eigenvectors of a symmetric positive definite tridiagonal matrix.\n",
    "\"\"\"\n",
    "function spd3_eigfact!(compz::Char, dv::Vector{Float64}, ev::Vector{Float64})\n",
    "    n = length(dv)                    # N\n",
    "    if length(ev) != n - 1\n",
    "        throw(DimensionMismatch(\"ev has length $(length(ev)) but needs one less than dv's length, $n)\"))\n",
    "    end\n",
    "\n",
    "    d = dv                            # D\n",
    "    e = [ev; zero(Float64)]           # E\n",
    "    ldz = compz == 'N' ? 1 : n        # LDZ\n",
    "    Z = similar(d, Float64, ldz, n)   # Z\n",
    "    work = zeros(Float64, 4n)         # WORK\n",
    "    info = Ref{BlasInt}()             # Info\n",
    "\n",
    "    ccall((:dpteqr_64_, liblapack), Void,\n",
    "          (Ptr{UInt8},    Ptr{BlasInt}, Ptr{Float64}, Ptr{Float64},\n",
    "           Ptr{Float64}, Ptr{BlasInt}, Ptr{Float64}, Ptr{BlasInt}), \n",
    "           &compz,        &n,           d,             e,\n",
    "           Z,             &ldz,         work,       info)\n",
    "\n",
    "    # @assert info[] == 0\n",
    "    println(\"....\", info[])\n",
    "\n",
    "    d[1:n], Z[:,1:n]\n",
    "end\n",
    "\n",
    "\n",
    "# FOO!(jobz::Char, dv::Vector, ev::Vector) = FOO!(jobz, 'I', dv, ev, 0.0, 0.0, 0, 0)\n",
    "\n",
    "#function my_eig{T<:Float64}(A::SymTridiagonal{T})\n",
    "#    F = Eigen(bar!('V', A.dv, A.ev)...)\n",
    "#    F.values, F.vectors\n",
    "#end\n"
   ]
  },
  {
   "cell_type": "code",
   "execution_count": 9,
   "metadata": {
    "collapsed": false
   },
   "outputs": [
    {
     "name": "stderr",
     "output_type": "stream",
     "text": [
      "WARNING: replacing module Utils\n",
      "WARNING: Method definition *(Base.LinAlg.Tridiagonal{#T<:Number}, Base.LinAlg.Diagonal{#S<:Number}) in module Utils at /home/miro3/Documents/Programming/2d1d-reviews/utils.jl:117 overwritten in module Utils at /home/miro3/Documents/Programming/2d1d-reviews/utils.jl:117.\n",
      "WARNING: Method definition *(Base.LinAlg.Diagonal{#T<:Number}, Base.LinAlg.Tridiagonal{#S<:Number}) in module Utils at /home/miro3/Documents/Programming/2d1d-reviews/utils.jl:129 overwritten in module Utils at /home/miro3/Documents/Programming/2d1d-reviews/utils.jl:129.\n",
      "WARNING: Method definition *(Base.LinAlg.Diagonal{#T<:Number}, Base.LinAlg.SymTridiagonal{#S<:Number}) in module Utils at /home/miro3/Documents/Programming/2d1d-reviews/utils.jl:141 overwritten in module Utils at /home/miro3/Documents/Programming/2d1d-reviews/utils.jl:141.\n",
      "WARNING: Method definition *(Base.LinAlg.SymTridiagonal{#T<:Number}, Base.LinAlg.Diagonal{#S<:Number}) in module Utils at /home/miro3/Documents/Programming/2d1d-reviews/utils.jl:152 overwritten in module Utils at /home/miro3/Documents/Programming/2d1d-reviews/utils.jl:152.\n"
     ]
    }
   ],
   "source": [
    "include(\"utils.jl\")\n",
    "using Utils\n",
    "A, M = Utils.matrices(10, :SymTridiagonal);\n",
    "A;"
   ]
  },
  {
   "cell_type": "code",
   "execution_count": 5,
   "metadata": {
    "collapsed": false
   },
   "outputs": [
    {
     "data": {
      "text/plain": [
       "11-element Array{Float64,1}:\n",
       "  0.97887\n",
       "  1.0    \n",
       "  1.0    \n",
       "  3.81966\n",
       "  8.24429\n",
       " 13.8197 \n",
       " 20.0    \n",
       " 26.1803 \n",
       " 31.7557 \n",
       " 36.1803 \n",
       " 39.0211 "
      ]
     },
     "execution_count": 5,
     "metadata": {},
     "output_type": "execute_result"
    }
   ],
   "source": [
    "w, _ = eig(A);\n",
    "w"
   ]
  },
  {
   "cell_type": "code",
   "execution_count": 10,
   "metadata": {
    "collapsed": false
   },
   "outputs": [
    {
     "data": {
      "text/plain": [
       "([1.0,20.0,20.0,20.0,20.0,20.0,20.0,20.0,20.0,20.0,1.0],[0.0,-10.0,-10.0,-10.0,-10.0,-10.0,-10.0,-10.0,-10.0,0.0])"
      ]
     },
     "execution_count": 10,
     "metadata": {},
     "output_type": "execute_result"
    }
   ],
   "source": [
    "d, e = A.dv, A.ev"
   ]
  },
  {
   "cell_type": "code",
   "execution_count": 11,
   "metadata": {
    "collapsed": false
   },
   "outputs": [
    {
     "name": "stdout",
     "output_type": "stream",
     "text": [
      "....0\n"
     ]
    },
    {
     "data": {
      "text/plain": [
       "([39.02113032590308,36.18033988749899,31.755705045849503,26.180339887498963,20.00000000000001,13.819660112501042,8.244294954150536,3.8196601125010456,1.0,1.0,0.9788696740969282],\n",
       "11x11 Array{Float64,2}:\n",
       " -1.95354e-311   5.89836e-310  3.57088e-310  …  0.0           1.52472e-309\n",
       " -3.29547e-310   5.89836e-310  6.67206e-310     0.0           1.21462e-309\n",
       " -2.16969e-310   4.77184e-310  1.89972e-310     6.93415e-310  1.10199e-309\n",
       "  3.39786e-311   1.82264e-310  2.85861e-310     6.93373e-310  1.35285e-309\n",
       " -2.61032e-310  -1.79697e-319  4.68069e-310     0.0           1.64778e-309\n",
       " -2.6093e-310    5.86609e-318  4.68125e-310  …  0.0           1.64776e-309\n",
       "  3.38956e-311   1.82275e-310  2.85794e-310     6.93415e-310  1.35285e-309\n",
       " -2.16901e-310   4.77191e-310  1.90033e-310     6.93373e-310  1.10197e-309\n",
       " -3.29621e-310   5.89836e-310  6.67174e-310     6.93415e-310  1.21464e-309\n",
       " -7.86666e-311   2.94909e-310  7.63034e-310     6.93373e-310  1.4655e-309 \n",
       "  3.38956e-311  -1.82275e-310  2.85794e-310  …  6.93415e-310  1.35285e-309)"
      ]
     },
     "execution_count": 11,
     "metadata": {},
     "output_type": "execute_result"
    }
   ],
   "source": [
    "spd3_eigfact!('V', d, e)"
   ]
  },
  {
   "cell_type": "code",
   "execution_count": 105,
   "metadata": {
    "collapsed": false
   },
   "outputs": [
    {
     "data": {
      "text/plain": [
       "11-element Array{Float64,1}:\n",
       " 39.0211 \n",
       " 36.1803 \n",
       " 31.7557 \n",
       " 26.1803 \n",
       " 20.0    \n",
       " 13.8197 \n",
       "  8.24429\n",
       "  3.81966\n",
       "  1.0    \n",
       "  1.0    \n",
       "  0.97887"
      ]
     },
     "execution_count": 105,
     "metadata": {},
     "output_type": "execute_result"
    }
   ],
   "source": [
    "d"
   ]
  },
  {
   "cell_type": "code",
   "execution_count": 7,
   "metadata": {
    "collapsed": false
   },
   "outputs": [
    {
     "data": {
      "text/plain": [
       "10-element Array{Float64,1}:\n",
       "   0.0\n",
       " -10.0\n",
       " -10.0\n",
       " -10.0\n",
       " -10.0\n",
       " -10.0\n",
       " -10.0\n",
       " -10.0\n",
       " -10.0\n",
       "   0.0"
      ]
     },
     "execution_count": 7,
     "metadata": {},
     "output_type": "execute_result"
    }
   ],
   "source": [
    "e"
   ]
  },
  {
   "cell_type": "code",
   "execution_count": 107,
   "metadata": {
    "collapsed": false
   },
   "outputs": [
    {
     "ename": "LoadError",
     "evalue": "LoadError: no promotion exists for Int32 and Union{Float32,Float64}\nwhile loading In[107], in expression starting on line 1",
     "output_type": "error",
     "traceback": [
      "LoadError: no promotion exists for Int32 and Union{Float32,Float64}\nwhile loading In[107], in expression starting on line 1",
      "",
      " in promote_type at promotion.jl:119"
     ]
    }
   ],
   "source": [
    "promote_type(Int32, Float64)"
   ]
  },
  {
   "cell_type": "code",
   "execution_count": 109,
   "metadata": {
    "collapsed": false
   },
   "outputs": [
    {
     "name": "stdout",
     "output_type": "stream",
     "text": [
      "search:\n",
      "\n",
      "Couldn't find copy_oftype\n",
      "Perhaps you meant code_typed\n"
     ]
    },
    {
     "ename": "LoadError",
     "evalue": "LoadError: \"copy_oftype\" is not defined in module Main\nwhile loading In[109], in expression starting on line 119",
     "output_type": "error",
     "traceback": [
      "LoadError: \"copy_oftype\" is not defined in module Main\nwhile loading In[109], in expression starting on line 119",
      ""
     ]
    }
   ],
   "source": [
    "?copy_oftype"
   ]
  },
  {
   "cell_type": "code",
   "execution_count": null,
   "metadata": {
    "collapsed": true
   },
   "outputs": [],
   "source": []
  }
 ],
 "metadata": {
  "kernelspec": {
   "display_name": "Julia 0.4.4-pre",
   "language": "julia",
   "name": "julia-0.4"
  },
  "language_info": {
   "file_extension": ".jl",
   "mimetype": "application/julia",
   "name": "julia",
   "version": "0.4.4"
  }
 },
 "nbformat": 4,
 "nbformat_minor": 0
}

{
 "cells": [
  {
   "cell_type": "code",
   "execution_count": 31,
   "metadata": {
    "collapsed": false
   },
   "outputs": [
    {
     "data": {
      "text/plain": [
       "chklapackerror (generic function with 1 method)"
      ]
     },
     "execution_count": 31,
     "metadata": {},
     "output_type": "execute_result"
    }
   ],
   "source": [
    "const liblapack = Base.liblapack_name\n",
    "import Base.LinAlg.BlasInt, Base.LinAlg.Float64, Base.blas_vendor, Base.LinAlg.Eigen\n",
    "\n",
    "if blas_vendor() == :openblas64\n",
    "    macro blasfunc(x)\n",
    "        return Expr(:quote, symbol(x, \"64_\"))\n",
    "    end\n",
    "end\n",
    "\n",
    "function chklapackerror(ret::BlasInt)\n",
    "    if ret == 0\n",
    "        return\n",
    "    elseif ret < 0\n",
    "        throw(ArgumentError(\"invalid argument #$(-ret) to LAPACK call\"))\n",
    "    else # ret > 0\n",
    "        throw(LAPACKException(ret))\n",
    "    end\n",
    "end"
   ]
  },
  {
   "cell_type": "code",
   "execution_count": 50,
   "metadata": {
    "collapsed": false
   },
   "outputs": [
    {
     "data": {
      "text/plain": [
       "my_eig (generic function with 1 method)"
      ]
     },
     "execution_count": 50,
     "metadata": {},
     "output_type": "execute_result"
    }
   ],
   "source": [
    "stegr = :dstegr_\n",
    "elty = :Float64\n",
    "\n",
    "@eval begin\n",
    "    function bar!(jobz::Char, range::Char, dv::Vector{$elty}, ev::Vector{$elty}, vl::Real, vu::Real, il::Integer, iu::Integer)\n",
    "        n = length(dv)\n",
    "        if length(ev) != n - 1\n",
    "            throw(DimensionMismatch(\"ev has length $(length(ev)) but needs one less than dv's length, $n)\"))\n",
    "        end\n",
    "        eev = [ev; zero($elty)]\n",
    "        abstol = Array($elty, 1)\n",
    "        m = Array(BlasInt, 1)\n",
    "        w = similar(dv, $elty, n)\n",
    "        ldz = jobz == 'N' ? 1 : n\n",
    "        Z = similar(dv, $elty, ldz, n)\n",
    "        isuppz = similar(dv, BlasInt, 2n)\n",
    "        work = Array($elty, 1)\n",
    "        lwork = BlasInt(-1)\n",
    "        iwork = Array(BlasInt, 1)\n",
    "        liwork = BlasInt(-1)\n",
    "        info = Ref{BlasInt}()\n",
    "        for i = 1:2\n",
    "            ccall((@blasfunc($stegr), liblapack), Void,\n",
    "                (Ptr{UInt8}, Ptr{UInt8}, Ptr{BlasInt}, Ptr{$elty},\n",
    "                Ptr{$elty}, Ptr{$elty}, Ptr{$elty}, Ptr{BlasInt},\n",
    "                Ptr{BlasInt}, Ptr{$elty}, Ptr{BlasInt}, Ptr{$elty},\n",
    "                Ptr{$elty}, Ptr{BlasInt}, Ptr{BlasInt}, Ptr{$elty},\n",
    "                Ptr{BlasInt}, Ptr{BlasInt}, Ptr{BlasInt}, Ptr{BlasInt}),\n",
    "                &jobz, &range, &n, dv,\n",
    "                eev, &vl, &vu, &il,\n",
    "                &iu, abstol, m, w,\n",
    "                Z, &ldz, isuppz, work,\n",
    "                &lwork, iwork, &liwork, info)\n",
    "            chklapackerror(info[])\n",
    "            if i == 1\n",
    "                lwork = BlasInt(work[1])\n",
    "                work = Array($elty, lwork)\n",
    "                liwork = iwork[1]\n",
    "                iwork = Array(BlasInt, liwork)\n",
    "            end\n",
    "        end\n",
    "        w[1:m[1]], Z[:,1:m[1]]\n",
    "    end\n",
    "end\n",
    "bar!(jobz::Char, dv::Vector, ev::Vector) = bar!(jobz, 'A', dv, ev, 0.0, 0.0, 0, 0)\n",
    "\n",
    "function my_eig{T<:Float64}(A::SymTridiagonal{T})\n",
    "    F = Eigen(bar!('V', A.dv, A.ev)...)\n",
    "    F.values, F.vectors\n",
    "end"
   ]
  },
  {
   "cell_type": "code",
   "execution_count": 74,
   "metadata": {
    "collapsed": false
   },
   "outputs": [
    {
     "name": "stderr",
     "output_type": "stream",
     "text": [
      "WARNING: replacing module Utils\n",
      "WARNING: Method definition *(Base.LinAlg.Tridiagonal{#T<:Number}, Base.LinAlg.Diagonal{#S<:Number}) in module Utils at /home/miro3/Documents/Programming/2d1d-reviews/utils.jl:117 overwritten in module Utils at /home/miro3/Documents/Programming/2d1d-reviews/utils.jl:117.\n",
      "WARNING: Method definition *(Base.LinAlg.Diagonal{#T<:Number}, Base.LinAlg.Tridiagonal{#S<:Number}) in module Utils at /home/miro3/Documents/Programming/2d1d-reviews/utils.jl:129 overwritten in module Utils at /home/miro3/Documents/Programming/2d1d-reviews/utils.jl:129.\n",
      "WARNING: Method definition *(Base.LinAlg.Diagonal{#T<:Number}, Base.LinAlg.SymTridiagonal{#S<:Number}) in module Utils at /home/miro3/Documents/Programming/2d1d-reviews/utils.jl:141 overwritten in module Utils at /home/miro3/Documents/Programming/2d1d-reviews/utils.jl:141.\n",
      "WARNING: Method definition *(Base.LinAlg.SymTridiagonal{#T<:Number}, Base.LinAlg.Diagonal{#S<:Number}) in module Utils at /home/miro3/Documents/Programming/2d1d-reviews/utils.jl:152 overwritten in module Utils at /home/miro3/Documents/Programming/2d1d-reviews/utils.jl:152.\n"
     ]
    }
   ],
   "source": [
    "include(\"utils.jl\")\n",
    "using Utils\n",
    "\n",
    "A, M = Utils.matrices(1000, :SymTridiagonal);"
   ]
  },
  {
   "cell_type": "code",
   "execution_count": 77,
   "metadata": {
    "collapsed": false
   },
   "outputs": [
    {
     "name": "stdout",
     "output_type": "stream",
     "text": [
      "  0.132774 seconds (70 allocations: 15.544 MB)\n"
     ]
    }
   ],
   "source": [
    "@time my_eig(A);"
   ]
  },
  {
   "cell_type": "code",
   "execution_count": 39,
   "metadata": {
    "collapsed": false
   },
   "outputs": [
    {
     "data": {
      "text/plain": [
       "3-element Array{Float64,1}:\n",
       " 1.0\n",
       " 2.0\n",
       " 3.0"
      ]
     },
     "execution_count": 39,
     "metadata": {},
     "output_type": "execute_result"
    }
   ],
   "source": [
    "eigen.values"
   ]
  },
  {
   "cell_type": "code",
   "execution_count": 80,
   "metadata": {
    "collapsed": false
   },
   "outputs": [
    {
     "name": "stdout",
     "output_type": "stream",
     "text": [
      "  0.295016 seconds (75 allocations: 15.560 MB)\n"
     ]
    }
   ],
   "source": [
    "@time eig(A);"
   ]
  },
  {
   "cell_type": "code",
   "execution_count": 62,
   "metadata": {
    "collapsed": false
   },
   "outputs": [
    {
     "data": {
      "text/plain": [
       ":dpteqr_64_"
      ]
     },
     "execution_count": 62,
     "metadata": {},
     "output_type": "execute_result"
    }
   ],
   "source": [
    "stegr = :dpteqr_\n",
    "elty = :Float64\n",
    "\n",
    "@blasfunc dpteqr_"
   ]
  },
  {
   "cell_type": "code",
   "execution_count": 8,
   "metadata": {
    "collapsed": false
   },
   "outputs": [
    {
     "data": {
      "text/plain": [
       "spd3_eigfact! (generic function with 1 method)"
      ]
     },
     "execution_count": 8,
     "metadata": {},
     "output_type": "execute_result"
    }
   ],
   "source": [
    "const liblapack = Base.liblapack_name\n",
    "import Base.LinAlg.BlasInt, Base.LinAlg.Eigen\n",
    "\n",
    "\n",
    "\"\"\"\n",
    "Computes all eigenvalues and, optionally, eigenvectors of a symmetric positive definite tridiagonal matrix.\n",
    "\"\"\"\n",
    "function spd3_eigfact!(compz::Char, dv::Vector{Float64}, ev::Vector{Float64})\n",
    "    n = length(dv)                    # N\n",
    "    if length(ev) != n - 1\n",
    "        throw(DimensionMismatch(\"ev has length $(length(ev)) but needs one less than dv's length, $n)\"))\n",
    "    end\n",
    "\n",
    "    d = dv                            # D\n",
    "    e = [ev; zero(Float64)]           # E\n",
    "    ldz = compz == 'N' ? 1 : n        # LDZ\n",
    "    Z = similar(d, Float64, ldz, n)   # Z\n",
    "    work = zeros(Float64, 4n)         # WORK\n",
    "    info = Ref{BlasInt}()             # Info\n",
    "\n",
    "    ccall((:dpteqr_64_, liblapack), Void,\n",
    "          (Ptr{UInt8},    Ptr{BlasInt}, Ptr{Float64}, Ptr{Float64},\n",
    "           Ptr{Float64}, Ptr{BlasInt}, Ptr{Float64}, Ptr{BlasInt}), \n",
    "           &compz,        &n,           d,             e,\n",
    "           Z,             &ldz,         work,       info)\n",
    "\n",
    "    # @assert info[] == 0\n",
    "    println(\"....\", info[])\n",
    "\n",
    "    d[1:n], Z[:,1:n]\n",
    "end\n",
    "\n",
    "\n",
    "# FOO!(jobz::Char, dv::Vector, ev::Vector) = FOO!(jobz, 'I', dv, ev, 0.0, 0.0, 0, 0)\n",
    "\n",
    "#function my_eig{T<:Float64}(A::SymTridiagonal{T})\n",
    "#    F = Eigen(bar!('V', A.dv, A.ev)...)\n",
    "#    F.values, F.vectors\n",
    "#end\n"
   ]
  },
  {
   "cell_type": "code",
   "execution_count": 9,
   "metadata": {
    "collapsed": false
   },
   "outputs": [
    {
     "name": "stderr",
     "output_type": "stream",
     "text": [
      "WARNING: replacing module Utils\n",
      "WARNING: Method definition *(Base.LinAlg.Tridiagonal{#T<:Number}, Base.LinAlg.Diagonal{#S<:Number}) in module Utils at /home/miro3/Documents/Programming/2d1d-reviews/utils.jl:117 overwritten in module Utils at /home/miro3/Documents/Programming/2d1d-reviews/utils.jl:117.\n",
      "WARNING: Method definition *(Base.LinAlg.Diagonal{#T<:Number}, Base.LinAlg.Tridiagonal{#S<:Number}) in module Utils at /home/miro3/Documents/Programming/2d1d-reviews/utils.jl:129 overwritten in module Utils at /home/miro3/Documents/Programming/2d1d-reviews/utils.jl:129.\n",
      "WARNING: Method definition *(Base.LinAlg.Diagonal{#T<:Number}, Base.LinAlg.SymTridiagonal{#S<:Number}) in module Utils at /home/miro3/Documents/Programming/2d1d-reviews/utils.jl:141 overwritten in module Utils at /home/miro3/Documents/Programming/2d1d-reviews/utils.jl:141.\n",
      "WARNING: Method definition *(Base.LinAlg.SymTridiagonal{#T<:Number}, Base.LinAlg.Diagonal{#S<:Number}) in module Utils at /home/miro3/Documents/Programming/2d1d-reviews/utils.jl:152 overwritten in module Utils at /home/miro3/Documents/Programming/2d1d-reviews/utils.jl:152.\n"
     ]
    }
   ],
   "source": [
    "include(\"utils.jl\")\n",
    "using Utils\n",
    "A, M = Utils.matrices(10, :SymTridiagonal);\n",
    "A;"
   ]
  },
  {
   "cell_type": "code",
   "execution_count": 5,
   "metadata": {
    "collapsed": false
   },
   "outputs": [
    {
     "data": {
      "text/plain": [
       "11-element Array{Float64,1}:\n",
       "  0.97887\n",
       "  1.0    \n",
       "  1.0    \n",
       "  3.81966\n",
       "  8.24429\n",
       " 13.8197 \n",
       " 20.0    \n",
       " 26.1803 \n",
       " 31.7557 \n",
       " 36.1803 \n",
       " 39.0211 "
      ]
     },
     "execution_count": 5,
     "metadata": {},
     "output_type": "execute_result"
    }
   ],
   "source": [
    "w, _ = eig(A);\n",
    "w"
   ]
  },
  {
   "cell_type": "code",
   "execution_count": 10,
   "metadata": {
    "collapsed": false
   },
   "outputs": [
    {
     "data": {
      "text/plain": [
       "([1.0,20.0,20.0,20.0,20.0,20.0,20.0,20.0,20.0,20.0,1.0],[0.0,-10.0,-10.0,-10.0,-10.0,-10.0,-10.0,-10.0,-10.0,0.0])"
      ]
     },
     "execution_count": 10,
     "metadata": {},
     "output_type": "execute_result"
    }
   ],
   "source": [
    "d, e = A.dv, A.ev"
   ]
  },
  {
   "cell_type": "code",
   "execution_count": 11,
   "metadata": {
    "collapsed": false
   },
   "outputs": [
    {
     "name": "stdout",
     "output_type": "stream",
     "text": [
      "....0\n"
     ]
    },
    {
     "data": {
      "text/plain": [
       "([39.02113032590308,36.18033988749899,31.755705045849503,26.180339887498963,20.00000000000001,13.819660112501042,8.244294954150536,3.8196601125010456,1.0,1.0,0.9788696740969282],\n",
       "11x11 Array{Float64,2}:\n",
       " -1.95354e-311   5.89836e-310  3.57088e-310  …  0.0           1.52472e-309\n",
       " -3.29547e-310   5.89836e-310  6.67206e-310     0.0           1.21462e-309\n",
       " -2.16969e-310   4.77184e-310  1.89972e-310     6.93415e-310  1.10199e-309\n",
       "  3.39786e-311   1.82264e-310  2.85861e-310     6.93373e-310  1.35285e-309\n",
       " -2.61032e-310  -1.79697e-319  4.68069e-310     0.0           1.64778e-309\n",
       " -2.6093e-310    5.86609e-318  4.68125e-310  …  0.0           1.64776e-309\n",
       "  3.38956e-311   1.82275e-310  2.85794e-310     6.93415e-310  1.35285e-309\n",
       " -2.16901e-310   4.77191e-310  1.90033e-310     6.93373e-310  1.10197e-309\n",
       " -3.29621e-310   5.89836e-310  6.67174e-310     6.93415e-310  1.21464e-309\n",
       " -7.86666e-311   2.94909e-310  7.63034e-310     6.93373e-310  1.4655e-309 \n",
       "  3.38956e-311  -1.82275e-310  2.85794e-310  …  6.93415e-310  1.35285e-309)"
      ]
     },
     "execution_count": 11,
     "metadata": {},
     "output_type": "execute_result"
    }
   ],
   "source": [
    "spd3_eigfact!('V', d, e)"
   ]
  },
  {
   "cell_type": "code",
   "execution_count": 105,
   "metadata": {
    "collapsed": false
   },
   "outputs": [
    {
     "data": {
      "text/plain": [
       "11-element Array{Float64,1}:\n",
       " 39.0211 \n",
       " 36.1803 \n",
       " 31.7557 \n",
       " 26.1803 \n",
       " 20.0    \n",
       " 13.8197 \n",
       "  8.24429\n",
       "  3.81966\n",
       "  1.0    \n",
       "  1.0    \n",
       "  0.97887"
      ]
     },
     "execution_count": 105,
     "metadata": {},
     "output_type": "execute_result"
    }
   ],
   "source": [
    "d"
   ]
  },
  {
   "cell_type": "code",
   "execution_count": 7,
   "metadata": {
    "collapsed": false
   },
   "outputs": [
    {
     "data": {
      "text/plain": [
       "10-element Array{Float64,1}:\n",
       "   0.0\n",
       " -10.0\n",
       " -10.0\n",
       " -10.0\n",
       " -10.0\n",
       " -10.0\n",
       " -10.0\n",
       " -10.0\n",
       " -10.0\n",
       "   0.0"
      ]
     },
     "execution_count": 7,
     "metadata": {},
     "output_type": "execute_result"
    }
   ],
   "source": [
    "e"
   ]
  },
  {
   "cell_type": "code",
   "execution_count": 107,
   "metadata": {
    "collapsed": false
   },
   "outputs": [
    {
     "ename": "LoadError",
     "evalue": "LoadError: no promotion exists for Int32 and Union{Float32,Float64}\nwhile loading In[107], in expression starting on line 1",
     "output_type": "error",
     "traceback": [
      "LoadError: no promotion exists for Int32 and Union{Float32,Float64}\nwhile loading In[107], in expression starting on line 1",
      "",
      " in promote_type at promotion.jl:119"
     ]
    }
   ],
   "source": [
    "promote_type(Int32, Float64)"
   ]
  },
  {
   "cell_type": "code",
   "execution_count": 109,
   "metadata": {
    "collapsed": false
   },
   "outputs": [
    {
     "name": "stdout",
     "output_type": "stream",
     "text": [
      "search:\n",
      "\n",
      "Couldn't find copy_oftype\n",
      "Perhaps you meant code_typed\n"
     ]
    },
    {
     "ename": "LoadError",
     "evalue": "LoadError: \"copy_oftype\" is not defined in module Main\nwhile loading In[109], in expression starting on line 119",
     "output_type": "error",
     "traceback": [
      "LoadError: \"copy_oftype\" is not defined in module Main\nwhile loading In[109], in expression starting on line 119",
      ""
     ]
    }
   ],
   "source": [
    "?copy_oftype"
   ]
  },
  {
   "cell_type": "code",
   "execution_count": null,
   "metadata": {
    "collapsed": true
   },
   "outputs": [],
   "source": []
  }
 ],
 "metadata": {
  "kernelspec": {
   "display_name": "Julia 0.4.6-pre",
   "language": "julia",
   "name": "julia-0.4"
  },
  "language_info": {
   "file_extension": ".jl",
   "mimetype": "application/julia",
   "name": "julia",
   "version": "0.4.6"
  }
 },
 "nbformat": 4,
 "nbformat_minor": 0
}
